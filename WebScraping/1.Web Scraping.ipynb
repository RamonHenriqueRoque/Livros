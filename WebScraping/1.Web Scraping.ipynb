{
  "nbformat": 4,
  "nbformat_minor": 0,
  "metadata": {
    "colab": {
      "name": "1. Web Scraping",
      "provenance": [],
      "collapsed_sections": []
    },
    "kernelspec": {
      "name": "python3",
      "display_name": "Python 3"
    },
    "language_info": {
      "name": "python"
    }
  },
  "cells": [
    {
      "cell_type": "markdown",
      "metadata": {
        "id": "uHMl8LB1-3qT"
      },
      "source": [
        "#Começando o estudo de Web Scraping.\n",
        "\n",
        "**Livro que utilizei como base:**\n",
        "- *Web Scraping com Python: coletando mais dados na web moderna, 2ª edição, Ryan Mitchell (O'Reilly).*\n",
        "\n",
        "O princípio desse notebook é estudar sobre Web Scraping, para isso, testarei exemplos que foram abordados no livro (mencionado acima), e no final de cada capítulo, farei um exemplo na prática em base do capítulo lido. "
      ]
    },
    {
      "cell_type": "markdown",
      "metadata": {
        "id": "9XzeDei8XBgY"
      },
      "source": [
        "# **Capítulo 1 - Seu primeiro Web Scraper**"
      ]
    },
    {
      "cell_type": "markdown",
      "metadata": {
        "id": "m7Wgi5XWcGk4"
      },
      "source": [
        "**Exibição do código HTML da página**"
      ]
    },
    {
      "cell_type": "code",
      "metadata": {
        "colab": {
          "base_uri": "https://localhost:8080/"
        },
        "id": "puZMcvlr-uFw",
        "outputId": "875e369a-2a52-455c-9880-a8b58cdddd16"
      },
      "source": [
        "from urllib.request import urlopen\n",
        "\n",
        "html= urlopen(\"http://pythonscraping.com/pages/page1.html\")\n",
        "print(html.read())"
      ],
      "execution_count": null,
      "outputs": [
        {
          "output_type": "execute_result",
          "data": {
            "text/plain": [
              "b'<html>\\n<head>\\n<title>A Useful Page</title>\\n</head>\\n<body>\\n<h1>An Interesting Title</h1>\\n<div>\\nLorem ipsum dolor sit amet, consectetur adipisicing elit, sed do eiusmod tempor incididunt ut labore et dolore magna aliqua. Ut enim ad minim veniam, quis nostrud exercitation ullamco laboris nisi ut aliquip ex ea commodo consequat. Duis aute irure dolor in reprehenderit in voluptate velit esse cillum dolore eu fugiat nulla pariatur. Excepteur sint occaecat cupidatat non proident, sunt in culpa qui officia deserunt mollit anim id est laborum.\\n</div>\\n</body>\\n</html>\\n'"
            ]
          },
          "metadata": {},
          "execution_count": 3
        }
      ]
    },
    {
      "cell_type": "markdown",
      "metadata": {
        "id": "JPRKJ-srdWwn"
      },
      "source": [
        "**Instalando a biblioteca beautifulsoup**"
      ]
    },
    {
      "cell_type": "code",
      "metadata": {
        "colab": {
          "base_uri": "https://localhost:8080/"
        },
        "id": "e1ghc09Gdctx",
        "outputId": "6d773f70-b4ce-4a0e-bf28-ab08ae0d7f5d"
      },
      "source": [
        "!pip install beautifulsoup4"
      ],
      "execution_count": null,
      "outputs": [
        {
          "output_type": "stream",
          "name": "stdout",
          "text": [
            "Requirement already satisfied: beautifulsoup4 in /usr/local/lib/python3.7/dist-packages (4.6.3)\n"
          ]
        }
      ]
    },
    {
      "cell_type": "code",
      "metadata": {
        "id": "w9zLXIIvd1_w"
      },
      "source": [
        "from bs4 import BeautifulSoup"
      ],
      "execution_count": null,
      "outputs": []
    },
    {
      "cell_type": "markdown",
      "metadata": {
        "id": "SKjOtFB9eNWw"
      },
      "source": [
        "**Ação do BeautifulSoup no 1º Exemplo**"
      ]
    },
    {
      "cell_type": "code",
      "metadata": {
        "colab": {
          "base_uri": "https://localhost:8080/"
        },
        "id": "uREUh_ELeZxu",
        "outputId": "f53725fc-4cdf-4701-acb5-f9b0759c8762"
      },
      "source": [
        "from bs4 import BeautifulSoup\n",
        "from urllib.request import urlopen\n",
        "\n",
        "html= urlopen(\"http://pythonscraping.com/pages/page1.html\")\n",
        "bs= BeautifulSoup(html.read(), \"html.parser\")\n",
        "\n",
        "# Resultado são iguais\n",
        "print(bs.h1)\n",
        "print(bs.html.body.h1)\n",
        "print(bs.html.h1)\n",
        "print(bs.body.h1)"
      ],
      "execution_count": null,
      "outputs": [
        {
          "output_type": "stream",
          "name": "stdout",
          "text": [
            "<h1>An Interesting Title</h1>\n",
            "<h1>An Interesting Title</h1>\n",
            "<h1>An Interesting Title</h1>\n",
            "<h1>An Interesting Title</h1>\n"
          ]
        }
      ]
    },
    {
      "cell_type": "markdown",
      "metadata": {
        "id": "TZDRcNrDgGip"
      },
      "source": [
        "**Diferentes tipos de parser**\n",
        "\n",
        "- O significado de Parse é uma análise sintática de uma quantidade de símbolos em alguma linguagem.\n",
        "  - Informação retirada em: https://cursos.alura.com.br/forum/topico-significado-de-parse-87061"
      ]
    },
    {
      "cell_type": "markdown",
      "metadata": {
        "id": "FnAc1EbMhPBr"
      },
      "source": [
        "*Parser: lxml*\n",
        "\n",
        "Vantagens em relação ao html.parser: \n",
        "- Melhor resposta quando temos código HTML confuso;\n",
        "- Parser mais tolerante;\n",
        "- Corrige tags sem fechamento ou tags indevidamente aninhadas ou algo parecido;\n",
        "- Mais rápido.\n",
        "\n",
        "Desvantagens:\n",
        "- Deve se instalar separadamente;\n",
        "- Depende de bibliotecas C;\n",
        "- Pode causar problemas de portabilidade e de facilidade de uso."
      ]
    },
    {
      "cell_type": "code",
      "metadata": {
        "colab": {
          "base_uri": "https://localhost:8080/"
        },
        "id": "3xUugsWDgzCM",
        "outputId": "2d479c1a-8e8b-4faf-a88c-cbbbe1848474"
      },
      "source": [
        "!pip install lxml"
      ],
      "execution_count": null,
      "outputs": [
        {
          "output_type": "stream",
          "name": "stdout",
          "text": [
            "Requirement already satisfied: lxml in /usr/local/lib/python3.7/dist-packages (4.2.6)\n"
          ]
        }
      ]
    },
    {
      "cell_type": "code",
      "metadata": {
        "colab": {
          "base_uri": "https://localhost:8080/"
        },
        "id": "S7TsVg0fg7o8",
        "outputId": "94d3e2e4-34df-4fd5-ace7-c2f6ed0f29e6"
      },
      "source": [
        "from bs4 import BeautifulSoup\n",
        "from urllib.request import urlopen\n",
        "\n",
        "html= urlopen(\"http://pythonscraping.com/pages/page1.html\")\n",
        "bs= BeautifulSoup(html.read(), \"lxml\")\n",
        "\n",
        "print(bs.h1)"
      ],
      "execution_count": null,
      "outputs": [
        {
          "output_type": "stream",
          "name": "stdout",
          "text": [
            "<h1>An Interesting Title</h1>\n"
          ]
        }
      ]
    },
    {
      "cell_type": "markdown",
      "metadata": {
        "id": "YkRWP8BijCUz"
      },
      "source": [
        "*Parser: html5lib*\n",
        "\n",
        "Vantagens: \n",
        "- Melhor resposta quando temos código HTML confuso;\n",
        "- Parser mais tolerante e comparado com lxml;\n",
        "- Corrige tags sem fechamento ou tags indevidamente aninhadas ou algo parecido;\n",
        "\n",
        "Desvantagens:\n",
        "- Mais lento que lxml;\n",
        "- Deve se instalar separadamente;"
      ]
    },
    {
      "cell_type": "code",
      "metadata": {
        "colab": {
          "base_uri": "https://localhost:8080/"
        },
        "id": "DWKZn_r7jogK",
        "outputId": "478601c4-c8b7-4ad0-8976-0da780b81c5f"
      },
      "source": [
        "!pip install html5lib"
      ],
      "execution_count": null,
      "outputs": [
        {
          "output_type": "stream",
          "name": "stdout",
          "text": [
            "Requirement already satisfied: html5lib in /usr/local/lib/python3.7/dist-packages (1.0.1)\n",
            "Requirement already satisfied: six>=1.9 in /usr/local/lib/python3.7/dist-packages (from html5lib) (1.15.0)\n",
            "Requirement already satisfied: webencodings in /usr/local/lib/python3.7/dist-packages (from html5lib) (0.5.1)\n"
          ]
        }
      ]
    },
    {
      "cell_type": "code",
      "metadata": {
        "colab": {
          "base_uri": "https://localhost:8080/"
        },
        "id": "AJvmpQCjjogM",
        "outputId": "8f6f1469-b174-45d7-9dd8-b9aa12358dab"
      },
      "source": [
        "from bs4 import BeautifulSoup\n",
        "from urllib.request import urlopen\n",
        "\n",
        "html= urlopen(\"http://pythonscraping.com/pages/page1.html\")\n",
        "bs= BeautifulSoup(html.read(), \"html5lib\")\n",
        "\n",
        "print(bs.h1)"
      ],
      "execution_count": null,
      "outputs": [
        {
          "output_type": "stream",
          "name": "stdout",
          "text": [
            "<h1>An Interesting Title</h1>\n"
          ]
        }
      ]
    },
    {
      "cell_type": "markdown",
      "metadata": {
        "id": "rbFc-OHIqSm0"
      },
      "source": [
        "*Conectando-se de forma confiável e tratando exceções*"
      ]
    },
    {
      "cell_type": "code",
      "metadata": {
        "colab": {
          "base_uri": "https://localhost:8080/"
        },
        "id": "5tCxbqGRqak3",
        "outputId": "711e7044-32ba-445c-d317-3f78b9408bf0"
      },
      "source": [
        "from urllib.request import urlopen\n",
        "from urllib.error import HTTPError\n",
        "from bs4 import BeautifulSoup\n",
        "\n",
        "def conseguir_titulo(url):\n",
        "  try:\n",
        "    html= urlopen(url)\n",
        "  except HTTPError as e:\n",
        "    return(None)\n",
        "\n",
        "  try:\n",
        "    bs= BeautifulSoup(html.read(), \"html.parser\")\n",
        "    titulo= bs.body.h1\n",
        "  except AttributeError as e:\n",
        "    return(None)\n",
        "  return(titulo)\n",
        "\n",
        "titulo= conseguir_titulo(\"http://pythonscraping.com/pages/page1.html\")\n",
        "if titulo == None:\n",
        "  print(\"Titulo não encontrado\")\n",
        "else:\n",
        "  print(titulo)"
      ],
      "execution_count": null,
      "outputs": [
        {
          "output_type": "stream",
          "name": "stdout",
          "text": [
            "<h1>An Interesting Title</h1>\n"
          ]
        }
      ]
    },
    {
      "cell_type": "markdown",
      "metadata": {
        "id": "Gz6HPvBUtd-J"
      },
      "source": [
        "#**Meu exemplo para praticar**"
      ]
    },
    {
      "cell_type": "code",
      "metadata": {
        "colab": {
          "base_uri": "https://localhost:8080/"
        },
        "id": "mjrkWalEtiOk",
        "outputId": "44276bd2-d757-4b20-fe50-bc71dfb255a3"
      },
      "source": [
        "from urllib.request import urlopen\n",
        "from urllib.error import HTTPError, URLError\n",
        "from bs4 import BeautifulSoup\n",
        "\n",
        "def verificar_coneccao(url):\n",
        "  try:\n",
        "    html= urlopen(url)\n",
        "    return(conseguir_titulo(html))\n",
        "  \n",
        "  except HTTPError as e:\n",
        "    print(\"URL incorreto.\")\n",
        "    return(None)\n",
        "  \n",
        "  except URLError as e:\n",
        "    print(\"Servidor indisponivel\")\n",
        "    return(None)\n",
        "\n",
        "def conseguir_titulo(html):\n",
        "  try:\n",
        "    bs= BeautifulSoup(html.read(), \"lxml\")\n",
        "    return(bs.title)\n",
        "  \n",
        "  except AttributeError as e:\n",
        "    return(None)\n",
        "\n",
        "url= \"https://pt.wikipedia.org/wiki/Xadrez\"\n",
        "verificar_coneccao(url)"
      ],
      "execution_count": null,
      "outputs": [
        {
          "output_type": "execute_result",
          "data": {
            "text/plain": [
              "<title>Xadrez – Wikipédia, a enciclopédia livre</title>"
            ]
          },
          "metadata": {},
          "execution_count": 3
        }
      ]
    }
  ]
}