{
  "nbformat": 4,
  "nbformat_minor": 0,
  "metadata": {
    "colab": {
      "name": "2. Web Scraping",
      "provenance": [],
      "collapsed_sections": [
        "uHMl8LB1-3qT"
      ]
    },
    "kernelspec": {
      "name": "python3",
      "display_name": "Python 3"
    },
    "language_info": {
      "name": "python"
    }
  },
  "cells": [
    {
      "cell_type": "markdown",
      "metadata": {
        "id": "uHMl8LB1-3qT"
      },
      "source": [
        "#**Livro que utilizei como base:**\n",
        "- *Web Scraping com Python: coletando mais dados na web moderna, 2ª edição, Ryan Mitchell (O'Reilly).*\n",
        "\n",
        "O princípio desse notebook é estudar sobre Web Scraping, para isso, testarei exemplos que foram abordados no livro (mencionado acima), e no final de cada capítulo, farei um exemplo na prática em base do capítulo lido. "
      ]
    },
    {
      "cell_type": "markdown",
      "metadata": {
        "id": "9XzeDei8XBgY"
      },
      "source": [
        "# **Capítulo 2 - Parsing de HTML avançado**"
      ]
    },
    {
      "cell_type": "markdown",
      "metadata": {
        "id": "DMD7QU-5_ikv"
      },
      "source": [
        "**Outras utilidades do BeautifulSoup**"
      ]
    },
    {
      "cell_type": "code",
      "metadata": {
        "colab": {
          "base_uri": "https://localhost:8080/"
        },
        "id": "5A-VvEZf_onm",
        "outputId": "a6d7d276-6733-45eb-aae3-d1f14ad8f3f8"
      },
      "source": [
        "from urllib.request import urlopen\n",
        "from bs4 import BeautifulSoup\n",
        "\n",
        "url= \"http://www.pythonscraping.com/pages/warandpeace.html\"\n",
        "html= urlopen(url)\n",
        "bs= BeautifulSoup(html.read(), \"html.parser\")\n",
        "\n",
        "lista_nome= bs.find_all(name= \"span\",               # Tags\n",
        "                        attrs= {\"class\":\"green\"},   # Atributo\n",
        "                        recursive= True,            # Nivel de aprofundamento  \n",
        "                        text= None)                 # Pesquisa em base do parametro\n",
        "\n",
        "for nome in lista_nome:\n",
        "  print(nome.get_text())        # Separa o conteudo das Tags"
      ],
      "execution_count": null,
      "outputs": [
        {
          "output_type": "stream",
          "name": "stdout",
          "text": [
            "Anna\n",
            "Pavlovna Scherer\n",
            "Empress Marya\n",
            "Fedorovna\n",
            "Prince Vasili Kuragin\n",
            "Anna Pavlovna\n",
            "St. Petersburg\n",
            "the prince\n",
            "Anna Pavlovna\n",
            "Anna Pavlovna\n",
            "the prince\n",
            "the prince\n",
            "the prince\n",
            "Prince Vasili\n",
            "Anna Pavlovna\n",
            "Anna Pavlovna\n",
            "the prince\n",
            "Wintzingerode\n",
            "King of Prussia\n",
            "le Vicomte de Mortemart\n",
            "Montmorencys\n",
            "Rohans\n",
            "Abbe Morio\n",
            "the Emperor\n",
            "the prince\n",
            "Prince Vasili\n",
            "Dowager Empress Marya Fedorovna\n",
            "the baron\n",
            "Anna Pavlovna\n",
            "the Empress\n",
            "the Empress\n",
            "Anna Pavlovna's\n",
            "Her Majesty\n",
            "Baron\n",
            "Funke\n",
            "The prince\n",
            "Anna\n",
            "Pavlovna\n",
            "the Empress\n",
            "The prince\n",
            "Anatole\n",
            "the prince\n",
            "The prince\n",
            "Anna\n",
            "Pavlovna\n",
            "Anna Pavlovna\n"
          ]
        }
      ]
    },
    {
      "cell_type": "markdown",
      "metadata": {
        "id": "-1rxZHGLT5Pq"
      },
      "source": [
        "**Diferentes pesquisas**"
      ]
    },
    {
      "cell_type": "code",
      "metadata": {
        "id": "Yr7fCnIE9LH6"
      },
      "source": [
        "def mostrar_resultados(lista):\n",
        "  for i, nome in enumerate(lista_nome):\n",
        "    if i < 5:\n",
        "      print(nome.get_text())        # Separa o conteudo das Tags"
      ],
      "execution_count": null,
      "outputs": []
    },
    {
      "cell_type": "code",
      "metadata": {
        "colab": {
          "base_uri": "https://localhost:8080/"
        },
        "id": "gZarbRxXUO1X",
        "outputId": "3978b3cb-ae11-456c-b22b-54e3fbb0ef67"
      },
      "source": [
        "# Passando Tags em lista\n",
        "mostrar_resultados(bs.find_all([\"h1\", \"h2\", \"h3\", \"h4\", \"h5\", \"h6\"]))"
      ],
      "execution_count": null,
      "outputs": [
        {
          "output_type": "stream",
          "name": "stdout",
          "text": [
            "Anna\n",
            "Pavlovna Scherer\n",
            "Empress Marya\n",
            "Fedorovna\n",
            "Prince Vasili Kuragin\n",
            "Anna Pavlovna\n",
            "St. Petersburg\n"
          ]
        }
      ]
    },
    {
      "cell_type": "code",
      "metadata": {
        "colab": {
          "base_uri": "https://localhost:8080/"
        },
        "id": "GT2_oEeDU3UY",
        "outputId": "57c2e649-e920-4681-c9a7-8980e6d629c0"
      },
      "source": [
        "# podemos querer passar mais de uma classe\n",
        "mostrar_resultados(bs.find_all(\"span\", {\"class\":{\"green\", \"red\"}}))"
      ],
      "execution_count": null,
      "outputs": [
        {
          "output_type": "stream",
          "name": "stdout",
          "text": [
            "Anna\n",
            "Pavlovna Scherer\n",
            "Empress Marya\n",
            "Fedorovna\n",
            "Prince Vasili Kuragin\n",
            "Anna Pavlovna\n",
            "St. Petersburg\n"
          ]
        }
      ]
    },
    {
      "cell_type": "code",
      "metadata": {
        "colab": {
          "base_uri": "https://localhost:8080/"
        },
        "id": "CdOBu_t0VUlo",
        "outputId": "7431ea09-9ba7-49ff-9102-f8070288e96c"
      },
      "source": [
        "# Busca com base em nome\n",
        "len(bs.find_all(text= \"the prince\"))"
      ],
      "execution_count": null,
      "outputs": [
        {
          "output_type": "execute_result",
          "data": {
            "text/plain": [
              "7"
            ]
          },
          "metadata": {},
          "execution_count": 26
        }
      ]
    },
    {
      "cell_type": "code",
      "metadata": {
        "colab": {
          "base_uri": "https://localhost:8080/"
        },
        "id": "Ay20VXPrV3X3",
        "outputId": "7fd1eb7a-a792-450a-9879-9e55bddea167"
      },
      "source": [
        "# Busca com keyword\n",
        "mostrar_resultados(bs.find_all(id= \"title\", class_= \"text\"))"
      ],
      "execution_count": null,
      "outputs": [
        {
          "output_type": "stream",
          "name": "stdout",
          "text": [
            "Anna\n",
            "Pavlovna Scherer\n",
            "Empress Marya\n",
            "Fedorovna\n",
            "Prince Vasili Kuragin\n",
            "Anna Pavlovna\n",
            "St. Petersburg\n"
          ]
        }
      ]
    },
    {
      "cell_type": "markdown",
      "metadata": {
        "id": "UyVJhx_8Whhn"
      },
      "source": [
        "**Navegando em arvore**"
      ]
    },
    {
      "cell_type": "markdown",
      "metadata": {
        "id": "H_TGjLzZYdIB"
      },
      "source": [
        "*Pesquisando filho*"
      ]
    },
    {
      "cell_type": "code",
      "metadata": {
        "colab": {
          "base_uri": "https://localhost:8080/"
        },
        "id": "0XgiaWimXCh5",
        "outputId": "c0796433-7b7d-4462-9abf-1cb505c9c607"
      },
      "source": [
        "from urllib.request import urlopen\n",
        "from bs4 import BeautifulSoup\n",
        "\n",
        "url= \"http://www.pythonscraping.com/pages/page3.html\"\n",
        "html= urlopen(url)\n",
        "bs= BeautifulSoup(html.read(), \"html.parser\")\n",
        "\n",
        "for filho in bs.find(\"table\", {\"id\": \"giftList\"}).children:\n",
        "  print(filho)"
      ],
      "execution_count": null,
      "outputs": [
        {
          "output_type": "stream",
          "name": "stdout",
          "text": [
            "\n",
            "\n",
            "<tr><th>\n",
            "Item Title\n",
            "</th><th>\n",
            "Description\n",
            "</th><th>\n",
            "Cost\n",
            "</th><th>\n",
            "Image\n",
            "</th></tr>\n",
            "\n",
            "\n",
            "<tr class=\"gift\" id=\"gift1\"><td>\n",
            "Vegetable Basket\n",
            "</td><td>\n",
            "This vegetable basket is the perfect gift for your health conscious (or overweight) friends!\n",
            "<span class=\"excitingNote\">Now with super-colorful bell peppers!</span>\n",
            "</td><td>\n",
            "$15.00\n",
            "</td><td>\n",
            "<img src=\"../img/gifts/img1.jpg\"/>\n",
            "</td></tr>\n",
            "\n",
            "\n",
            "<tr class=\"gift\" id=\"gift2\"><td>\n",
            "Russian Nesting Dolls\n",
            "</td><td>\n",
            "Hand-painted by trained monkeys, these exquisite dolls are priceless! And by \"priceless,\" we mean \"extremely expensive\"! <span class=\"excitingNote\">8 entire dolls per set! Octuple the presents!</span>\n",
            "</td><td>\n",
            "$10,000.52\n",
            "</td><td>\n",
            "<img src=\"../img/gifts/img2.jpg\"/>\n",
            "</td></tr>\n",
            "\n",
            "\n",
            "<tr class=\"gift\" id=\"gift3\"><td>\n",
            "Fish Painting\n",
            "</td><td>\n",
            "If something seems fishy about this painting, it's because it's a fish! <span class=\"excitingNote\">Also hand-painted by trained monkeys!</span>\n",
            "</td><td>\n",
            "$10,005.00\n",
            "</td><td>\n",
            "<img src=\"../img/gifts/img3.jpg\"/>\n",
            "</td></tr>\n",
            "\n",
            "\n",
            "<tr class=\"gift\" id=\"gift4\"><td>\n",
            "Dead Parrot\n",
            "</td><td>\n",
            "This is an ex-parrot! <span class=\"excitingNote\">Or maybe he's only resting?</span>\n",
            "</td><td>\n",
            "$0.50\n",
            "</td><td>\n",
            "<img src=\"../img/gifts/img4.jpg\"/>\n",
            "</td></tr>\n",
            "\n",
            "\n",
            "<tr class=\"gift\" id=\"gift5\"><td>\n",
            "Mystery Box\n",
            "</td><td>\n",
            "If you love suprises, this mystery box is for you! Do not place on light-colored surfaces. May cause oil staining. <span class=\"excitingNote\">Keep your friends guessing!</span>\n",
            "</td><td>\n",
            "$1.50\n",
            "</td><td>\n",
            "<img src=\"../img/gifts/img6.jpg\"/>\n",
            "</td></tr>\n",
            "\n",
            "\n"
          ]
        }
      ]
    },
    {
      "cell_type": "markdown",
      "metadata": {
        "id": "pZ65duvTYix2"
      },
      "source": [
        "*Lidando com irmões*"
      ]
    },
    {
      "cell_type": "code",
      "metadata": {
        "colab": {
          "base_uri": "https://localhost:8080/"
        },
        "id": "zfXUTeJoYhbx",
        "outputId": "9a3521d1-549c-4ccb-9b57-54440026c582"
      },
      "source": [
        "from urllib.request import urlopen\n",
        "from bs4 import BeautifulSoup\n",
        "\n",
        "url= \"http://www.pythonscraping.com/pages/page3.html\"\n",
        "html= urlopen(url)\n",
        "bs= BeautifulSoup(html.read(), \"html.parser\")\n",
        "\n",
        "for irmao in bs.find(\"table\", {\"id\": \"giftList\"}).tr.next_siblings:\n",
        "  print(irmao)"
      ],
      "execution_count": null,
      "outputs": [
        {
          "output_type": "stream",
          "name": "stdout",
          "text": [
            "\n",
            "\n",
            "<tr class=\"gift\" id=\"gift1\"><td>\n",
            "Vegetable Basket\n",
            "</td><td>\n",
            "This vegetable basket is the perfect gift for your health conscious (or overweight) friends!\n",
            "<span class=\"excitingNote\">Now with super-colorful bell peppers!</span>\n",
            "</td><td>\n",
            "$15.00\n",
            "</td><td>\n",
            "<img src=\"../img/gifts/img1.jpg\"/>\n",
            "</td></tr>\n",
            "\n",
            "\n",
            "<tr class=\"gift\" id=\"gift2\"><td>\n",
            "Russian Nesting Dolls\n",
            "</td><td>\n",
            "Hand-painted by trained monkeys, these exquisite dolls are priceless! And by \"priceless,\" we mean \"extremely expensive\"! <span class=\"excitingNote\">8 entire dolls per set! Octuple the presents!</span>\n",
            "</td><td>\n",
            "$10,000.52\n",
            "</td><td>\n",
            "<img src=\"../img/gifts/img2.jpg\"/>\n",
            "</td></tr>\n",
            "\n",
            "\n",
            "<tr class=\"gift\" id=\"gift3\"><td>\n",
            "Fish Painting\n",
            "</td><td>\n",
            "If something seems fishy about this painting, it's because it's a fish! <span class=\"excitingNote\">Also hand-painted by trained monkeys!</span>\n",
            "</td><td>\n",
            "$10,005.00\n",
            "</td><td>\n",
            "<img src=\"../img/gifts/img3.jpg\"/>\n",
            "</td></tr>\n",
            "\n",
            "\n",
            "<tr class=\"gift\" id=\"gift4\"><td>\n",
            "Dead Parrot\n",
            "</td><td>\n",
            "This is an ex-parrot! <span class=\"excitingNote\">Or maybe he's only resting?</span>\n",
            "</td><td>\n",
            "$0.50\n",
            "</td><td>\n",
            "<img src=\"../img/gifts/img4.jpg\"/>\n",
            "</td></tr>\n",
            "\n",
            "\n",
            "<tr class=\"gift\" id=\"gift5\"><td>\n",
            "Mystery Box\n",
            "</td><td>\n",
            "If you love suprises, this mystery box is for you! Do not place on light-colored surfaces. May cause oil staining. <span class=\"excitingNote\">Keep your friends guessing!</span>\n",
            "</td><td>\n",
            "$1.50\n",
            "</td><td>\n",
            "<img src=\"../img/gifts/img6.jpg\"/>\n",
            "</td></tr>\n",
            "\n",
            "\n"
          ]
        }
      ]
    },
    {
      "cell_type": "markdown",
      "metadata": {
        "id": "CJLKQPj8aARB"
      },
      "source": [
        "*Lidando com os pais*"
      ]
    },
    {
      "cell_type": "code",
      "metadata": {
        "colab": {
          "base_uri": "https://localhost:8080/"
        },
        "id": "niNosOo9aFGT",
        "outputId": "acff45eb-232e-4adf-ace9-66a1f317ef4d"
      },
      "source": [
        "from urllib.request import urlopen\n",
        "from bs4 import BeautifulSoup\n",
        "\n",
        "url= \"http://www.pythonscraping.com/pages/page3.html\"\n",
        "html= urlopen(url)\n",
        "bs= BeautifulSoup(html.read(), \"html.parser\")\n",
        "\n",
        "print(bs.find(\"img\", {\"src\": \"../img/gifts/img1.jpg\"}), \"\\n--------------------------\")\n",
        "print(bs.find(\"img\", {\"src\": \"../img/gifts/img1.jpg\"}).parent, \"\\n--------------------------\")\n",
        "print(bs.find(\"img\", {\"src\": \"../img/gifts/img1.jpg\"}).parent.previous_sibling, \"\\n--------------------------\")\n",
        "print(bs.find(\"img\", {\"src\": \"../img/gifts/img1.jpg\"}).parent.previous_sibling.get_text(), \"\\n--------------------------\")"
      ],
      "execution_count": null,
      "outputs": [
        {
          "output_type": "stream",
          "name": "stdout",
          "text": [
            "<img src=\"../img/gifts/img1.jpg\"/> \n",
            "--------------------------\n",
            "<td>\n",
            "<img src=\"../img/gifts/img1.jpg\"/>\n",
            "</td> \n",
            "--------------------------\n",
            "<td>\n",
            "$15.00\n",
            "</td> \n",
            "--------------------------\n",
            "\n",
            "$15.00\n",
            " \n",
            "--------------------------\n"
          ]
        }
      ]
    },
    {
      "cell_type": "markdown",
      "metadata": {
        "id": "e64NOGOdbBMY"
      },
      "source": [
        "**Expressões regulares e o BeautifulSoup**"
      ]
    },
    {
      "cell_type": "code",
      "metadata": {
        "colab": {
          "base_uri": "https://localhost:8080/"
        },
        "id": "h2Mx-drPbHVs",
        "outputId": "ff33eeb8-edb2-45cb-9b0d-db25720051a5"
      },
      "source": [
        "# Queremos todas as imagens\n",
        "from urllib.request import urlopen\n",
        "from bs4 import BeautifulSoup\n",
        "import re\n",
        "\n",
        "url= \"http://www.pythonscraping.com/pages/page3.html\"\n",
        "html= urlopen(url)\n",
        "bs= BeautifulSoup(html.read(), \"html.parser\")\n",
        "\n",
        "lista_pesquisa= bs.find_all(\"img\",\n",
        "                            {\"src\": re.compile(\"\\.\\.\\/img\\/gifts/img.*\\.jpg\")})\n",
        "\n",
        "for elemento in lista_pesquisa:\n",
        "  print(elemento.attrs[\"src\"])"
      ],
      "execution_count": null,
      "outputs": [
        {
          "output_type": "stream",
          "name": "stdout",
          "text": [
            "../img/gifts/img1.jpg\n",
            "../img/gifts/img2.jpg\n",
            "../img/gifts/img3.jpg\n",
            "../img/gifts/img4.jpg\n",
            "../img/gifts/img6.jpg\n"
          ]
        }
      ]
    },
    {
      "cell_type": "markdown",
      "metadata": {
        "id": "Gz6HPvBUtd-J"
      },
      "source": [
        "#**Meu exemplo para praticar**\n",
        "- Objetivo é obter os dados da tabela e exportar num arquivo csv."
      ]
    },
    {
      "cell_type": "code",
      "metadata": {
        "id": "mjrkWalEtiOk",
        "colab": {
          "base_uri": "https://localhost:8080/",
          "height": 206
        },
        "outputId": "676f73db-95d3-4738-f8b2-e91f809ee229"
      },
      "source": [
        "# Queremos todas as imagens\n",
        "from urllib.request import urlopen\n",
        "from bs4 import BeautifulSoup\n",
        "import re\n",
        "import pandas as pd\n",
        "\n",
        "url= \"http://www.pythonscraping.com/pages/page3.html\"\n",
        "html= urlopen(url)\n",
        "bs= BeautifulSoup(html.read(), \"html.parser\")\n",
        "\n",
        "lista_pesquisa= bs.find(\"table\", {\"id\": \"giftList\"})\n",
        "\n",
        "variaveis= [i.get_text().replace(\"\\n\",\"\") for i in lista_pesquisa.tr]    # Temos as variaveis da coluna\n",
        "dados= [resultado.get_text().split(\"\\n\\n\")[:-1] for resultado in lista_pesquisa.find_all(class_= \"gift\")]\n",
        "link= [link.attrs[\"src\"].replace(\"..\", \"http://www.pythonscraping.com\") for link in bs.find_all(\"img\", {\"src\": re.compile(\"\\.\\.\\/img\\/gifts/img.*\\.jpg\")})]\n",
        "\n",
        "df= pd.DataFrame(dados)\n",
        "df[\"Imagem\"]= link\n",
        "df.columns= variaveis\n",
        "df['Item Title']= df['Item Title'].map(lambda x: x.replace(\"\\n\", \"\"))\n",
        "df"
      ],
      "execution_count": 35,
      "outputs": [
        {
          "output_type": "execute_result",
          "data": {
            "text/html": [
              "<div>\n",
              "<style scoped>\n",
              "    .dataframe tbody tr th:only-of-type {\n",
              "        vertical-align: middle;\n",
              "    }\n",
              "\n",
              "    .dataframe tbody tr th {\n",
              "        vertical-align: top;\n",
              "    }\n",
              "\n",
              "    .dataframe thead th {\n",
              "        text-align: right;\n",
              "    }\n",
              "</style>\n",
              "<table border=\"1\" class=\"dataframe\">\n",
              "  <thead>\n",
              "    <tr style=\"text-align: right;\">\n",
              "      <th></th>\n",
              "      <th>Item Title</th>\n",
              "      <th>Description</th>\n",
              "      <th>Cost</th>\n",
              "      <th>Image</th>\n",
              "    </tr>\n",
              "  </thead>\n",
              "  <tbody>\n",
              "    <tr>\n",
              "      <th>0</th>\n",
              "      <td>Vegetable Basket</td>\n",
              "      <td>This vegetable basket is the perfect gift for ...</td>\n",
              "      <td>$15.00</td>\n",
              "      <td>http://www.pythonscraping.com/img/gifts/img1.jpg</td>\n",
              "    </tr>\n",
              "    <tr>\n",
              "      <th>1</th>\n",
              "      <td>Russian Nesting Dolls</td>\n",
              "      <td>Hand-painted by trained monkeys, these exquisi...</td>\n",
              "      <td>$10,000.52</td>\n",
              "      <td>http://www.pythonscraping.com/img/gifts/img2.jpg</td>\n",
              "    </tr>\n",
              "    <tr>\n",
              "      <th>2</th>\n",
              "      <td>Fish Painting</td>\n",
              "      <td>If something seems fishy about this painting, ...</td>\n",
              "      <td>$10,005.00</td>\n",
              "      <td>http://www.pythonscraping.com/img/gifts/img3.jpg</td>\n",
              "    </tr>\n",
              "    <tr>\n",
              "      <th>3</th>\n",
              "      <td>Dead Parrot</td>\n",
              "      <td>This is an ex-parrot! Or maybe he's only resting?</td>\n",
              "      <td>$0.50</td>\n",
              "      <td>http://www.pythonscraping.com/img/gifts/img4.jpg</td>\n",
              "    </tr>\n",
              "    <tr>\n",
              "      <th>4</th>\n",
              "      <td>Mystery Box</td>\n",
              "      <td>If you love suprises, this mystery box is for ...</td>\n",
              "      <td>$1.50</td>\n",
              "      <td>http://www.pythonscraping.com/img/gifts/img6.jpg</td>\n",
              "    </tr>\n",
              "  </tbody>\n",
              "</table>\n",
              "</div>"
            ],
            "text/plain": [
              "              Item Title  ...                                             Image\n",
              "0       Vegetable Basket  ...  http://www.pythonscraping.com/img/gifts/img1.jpg\n",
              "1  Russian Nesting Dolls  ...  http://www.pythonscraping.com/img/gifts/img2.jpg\n",
              "2          Fish Painting  ...  http://www.pythonscraping.com/img/gifts/img3.jpg\n",
              "3            Dead Parrot  ...  http://www.pythonscraping.com/img/gifts/img4.jpg\n",
              "4            Mystery Box  ...  http://www.pythonscraping.com/img/gifts/img6.jpg\n",
              "\n",
              "[5 rows x 4 columns]"
            ]
          },
          "metadata": {},
          "execution_count": 35
        }
      ]
    },
    {
      "cell_type": "code",
      "metadata": {
        "id": "Yh9yXZVs11Va"
      },
      "source": [
        "df.to_csv(\"Tabela de preço do Cap 2.csv\")"
      ],
      "execution_count": 36,
      "outputs": []
    }
  ]
}